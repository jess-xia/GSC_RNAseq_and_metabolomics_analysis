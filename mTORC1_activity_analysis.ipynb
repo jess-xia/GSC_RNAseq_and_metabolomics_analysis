{
 "cells": [
  {
   "cell_type": "markdown",
   "id": "2bddcb83",
   "metadata": {},
   "source": [
    "### Do developmental and IR GSCs exhibit different levels of mTORC1 activation?\n",
    "IR GSCs exhibit significantly greater mTORC1 activity compared to developmental GSCs (T-statistic: -6.045364492639873, P-value: 3.7301145290978145e-08)"
   ]
  },
  {
   "cell_type": "code",
   "execution_count": 3,
   "id": "9ab3ea60",
   "metadata": {},
   "outputs": [
    {
     "name": "stdout",
     "output_type": "stream",
     "text": [
      "                        BT41_T    BT48_T    BT50_T    BT53_T    BT67_T  \\\n",
      "DEV_gs                0.121199 -0.044395  0.107647  0.092142 -0.306755   \n",
      "IR_gs                -0.124622  0.068298  0.009035 -0.188824  0.385338   \n",
      "AhR_activation_gs    -0.072989  0.145668  0.209514 -0.005065  0.251873   \n",
      "Wnt_activation_gs    -0.138055 -0.474027 -0.070369 -0.219989 -0.219492   \n",
      "mTORC1_activation_gs -0.096676 -0.100760 -0.167505  0.230446  0.306967   \n",
      "\n",
      "                        BT69_T    BT73_T    BT75_T    BT84_T    BT89_T  ...  \\\n",
      "DEV_gs               -0.284325  0.091796  0.184520  0.229192 -0.179875  ...   \n",
      "IR_gs                 0.323076  0.032276 -0.292961 -0.216460  0.317787  ...   \n",
      "AhR_activation_gs     0.003708  0.207364 -0.273588 -0.062187  0.270429  ...   \n",
      "Wnt_activation_gs     0.002818 -0.090590 -0.432390 -0.467687  0.288920  ...   \n",
      "mTORC1_activation_gs  0.207708 -0.034181 -0.030876 -0.319876 -0.027479  ...   \n",
      "\n",
      "                        AB2_NT    PB1_NT    PB2_NT    HF5_NL    HF6_NL  \\\n",
      "DEV_gs                0.224558  0.261615  0.275849 -0.382282 -0.301108   \n",
      "IR_gs                -0.218133 -0.218012 -0.220407  0.439097  0.470626   \n",
      "AhR_activation_gs    -0.303124 -0.175624 -0.138897  0.084362  0.211093   \n",
      "Wnt_activation_gs    -0.402163 -0.316307 -0.300291  0.035149  0.086498   \n",
      "mTORC1_activation_gs -0.249114 -0.412009 -0.345875  0.515146  0.359338   \n",
      "\n",
      "                       HF11_NL  HF5205_NL  HF6562_NL  HF7450_NL   G938_NT  \n",
      "DEV_gs               -0.303898  -0.334300  -0.524777  -0.429617  0.292737  \n",
      "IR_gs                 0.395784   0.185760   0.369286   0.260824 -0.213438  \n",
      "AhR_activation_gs     0.112124   0.037883  -0.006378  -0.007921 -0.145977  \n",
      "Wnt_activation_gs     0.161303   0.239253  -0.081718   0.034402 -0.373659  \n",
      "mTORC1_activation_gs  0.404587   0.278692   0.436410   0.267884 -0.292632  \n",
      "\n",
      "[5 rows x 208 columns]\n",
      "               disease sample_type\n",
      "sample_name                       \n",
      "BT41_T       adult_gbm      tissue\n",
      "BT48_T       adult_gbm      tissue\n",
      "BT50_T       adult_gbm      tissue\n",
      "BT53_T       adult_gbm      tissue\n",
      "BT67_T       adult_gbm      tissue\n"
     ]
    }
   ],
   "source": [
    "import pandas as pd\n",
    "\n",
    "# Read in gsva_results\n",
    "gsva_results_df = pd.read_csv('C:/research/GSC_RNAseq_and_metabolomics_analysis/gsva_results.csv', index_col=0)\n",
    "# Read in metadata\n",
    "bulk_meta_df = pd.read_csv('bulk_meta_compiled.csv', index_col=0)\n",
    "\n",
    "print(gsva_results_df.head())\n",
    "print(bulk_meta_df.head())"
   ]
  },
  {
   "cell_type": "code",
   "execution_count": 6,
   "id": "d4d6d833",
   "metadata": {},
   "outputs": [
    {
     "name": "stdout",
     "output_type": "stream",
     "text": [
      "['BT41_L', 'BT48_L', 'BT50_L', 'BT53_L', 'BT67_L', 'BT69_L', 'BT73_L', 'BT75_L', 'BT84_L', 'BT89_L', 'BT94_L', 'BT100_L', 'BT106_L', 'BT108_L', 'BT119_L', 'BT126_L', 'BT134_L', 'BT140_L', 'BT143_L', 'BT147_L', 'BT169_L', 'BT189_L', 'BT208_L', 'BT238_L', 'BT241_L', 'BT248_L', 'BT284_L', 'BT301_L', 'BT338_L', 'BT426_L', 'BT428_L', 'BT429_L', 'BT465_L', 'BT466_L', 'BT467_L', 'BT468_L', 'G361_L', 'G411_L', 'G489_L', 'G498_L', 'G523_L', 'G549_L', 'G551_L', 'G561_L', 'G564_L', 'G566_L', 'G567_L', 'G571_L', 'G577_L', 'G583_L', 'G584_L', 'G594_L', 'G613_L', 'G620_L', 'G637_L', 'G648_L', 'G683_L', 'G691_L', 'G702_L', 'G705_L', 'G706_L', 'G719_L', 'G729_L', 'G744_L', 'G789_L', 'G797_L', 'G799_L', 'G800_L', 'G809_L', 'G811_L', 'G823_L', 'G828_L', 'G837_L', 'G851_L', 'G861_L', 'G876_L', 'G885_L', 'G895_L', 'G900_L', 'G913_L', 'G914_L', 'G929_L', 'G931_L', 'G933_L', 'G945_L', 'G946_L', 'G957_L', 'G958_L']\n"
     ]
    }
   ],
   "source": [
    "# Fetch row names of bulk_meta_df where disease is adult_gbm and sample_type is culture\n",
    "bulk_meta_filtered = bulk_meta_df[(bulk_meta_df['disease'] == 'adult_gbm') & (bulk_meta_df['sample_type'] == 'culture')]\n",
    "bulk_meta_filtered_indices = bulk_meta_filtered.index.tolist()\n",
    "print(bulk_meta_filtered_indices)"
   ]
  },
  {
   "cell_type": "code",
   "execution_count": 8,
   "id": "4225e9c3",
   "metadata": {},
   "outputs": [
    {
     "name": "stdout",
     "output_type": "stream",
     "text": [
      "          DEV_gs     IR_gs  AhR_activation_gs  Wnt_activation_gs  \\\n",
      "BT41_L  0.486695 -0.570194          -0.131338           0.431061   \n",
      "BT48_L  0.448688 -0.557546          -0.280657           0.036503   \n",
      "BT50_L  0.374289 -0.472479          -0.212292           0.385221   \n",
      "BT53_L  0.187984 -0.438221          -0.372822          -0.043861   \n",
      "BT67_L  0.378168 -0.444414          -0.295498           0.176995   \n",
      "\n",
      "        mTORC1_activation_gs        subtype  \n",
      "BT41_L             -0.287975  developmental  \n",
      "BT48_L             -0.214147  developmental  \n",
      "BT50_L              0.122704  developmental  \n",
      "BT53_L              0.263070  developmental  \n",
      "BT67_L              0.171397  developmental  \n"
     ]
    }
   ],
   "source": [
    "gsva_results_df_transposed = gsva_results_df.transpose()\n",
    "\n",
    "# Add a column called subtype to gsva_results_df_transposed where if DEV_gs > IR_gs then subtype is 'developmental' else 'injury_response'\n",
    "gsva_results_df_transposed['subtype'] = gsva_results_df_transposed.apply(lambda row: 'developmental' if row['DEV_gs'] > row['IR_gs'] else 'injury_response', axis=1)\n",
    "\n",
    "# subset gsva_results_df_transposed to only include rows where the index is in bulk_meta_filtered_indices\n",
    "gsva_results_filtered = gsva_results_df_transposed.loc[gsva_results_df_transposed.index.isin(bulk_meta_filtered_indices)]\n",
    "print(gsva_results_filtered.head())\n",
    "\n"
   ]
  },
  {
   "cell_type": "code",
   "execution_count": 11,
   "id": "57b0753a",
   "metadata": {},
   "outputs": [
    {
     "name": "stdout",
     "output_type": "stream",
     "text": [
      "T-statistic: -6.045364492639873, P-value: 3.7301145290978145e-08\n"
     ]
    },
    {
     "name": "stderr",
     "output_type": "stream",
     "text": [
      "C:\\Users\\xiazh\\AppData\\Local\\Temp\\ipykernel_25980\\3923615747.py:13: FutureWarning: \n",
      "\n",
      "Passing `palette` without assigning `hue` is deprecated and will be removed in v0.14.0. Assign the `x` variable to `hue` and set `legend=False` for the same effect.\n",
      "\n",
      "  sns.boxplot(\n"
     ]
    },
    {
     "data": {
      "image/png": "[encoded data removed]",
      "text/plain": [
       "<Figure size 800x600 with 1 Axes>"
      ]
     },
     "metadata": {},
     "output_type": "display_data"
    }
   ],
   "source": [
    "# Perform statistical analysis (e.g., t-test) to compare mTORC1 activity between developmental and injury_response subtypes\n",
    "from scipy import stats\n",
    "dev_mtorc1 = gsva_results_filtered[gsva_results_filtered['subtype'] == 'developmental']['mTORC1_activation_gs']\n",
    "ir_mtorc1 = gsva_results_filtered[gsva_results_filtered['subtype'] == 'injury_response']['mTORC1_activation_gs']\n",
    "t_stat, p_value = stats.ttest_ind(dev_mtorc1, ir_mtorc1)\n",
    "print(f\"T-statistic: {t_stat}, P-value: {p_value}\")\n",
    "\n",
    "\n",
    "# Visualize the results using a boxplot\n",
    "import matplotlib.pyplot as plt\n",
    "import seaborn as sns\n",
    "plt.figure(figsize=(8, 6))\n",
    "sns.boxplot(\n",
    "    x='subtype',\n",
    "    y='mTORC1_activation_gs',\n",
    "    data=gsva_results_filtered,\n",
    "    palette= ['#FF6347', '#4682B4']\n",
    ")\n",
    "plt.title('mTORC1 Activity by GSC Subtype')\n",
    "plt.xlabel('GSC Subtype')\n",
    "plt.ylabel('mTORC1 Activation GSVA Score')\n",
    "plt.show()\n"
   ]
  }
 ],
 "metadata": {
  "kernelspec": {
   "display_name": "Python 3",
   "language": "python",
   "name": "python3"
  },
  "language_info": {
   "codemirror_mode": {
    "name": "ipython",
    "version": 3
   },
   "file_extension": ".py",
   "mimetype": "text/x-python",
   "name": "python",
   "nbconvert_exporter": "python",
   "pygments_lexer": "ipython3",
   "version": "3.12.4"
  }
 },
 "nbformat": 4,
 "nbformat_minor": 5
}
