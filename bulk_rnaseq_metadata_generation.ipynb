{
 "cells": [
  {
   "cell_type": "code",
   "execution_count": null,
   "id": "c5b892a2",
   "metadata": {},
   "outputs": [],
   "source": [
    "import pandas as pd\n",
    "\n",
    "# Import full expression matrix\n",
    "expression_matrix = pd.read_excel(\"C:/research/raw_data/RNAseq_cohorts1-5 plus extra.xlsx\")"
   ]
  },
  {
   "cell_type": "code",
   "execution_count": 24,
   "id": "b15a27c8",
   "metadata": {},
   "outputs": [
    {
     "data": {
      "text/html": [
       "<div>\n",
       "<style scoped>\n",
       "    .dataframe tbody tr th:only-of-type {\n",
       "        vertical-align: middle;\n",
       "    }\n",
       "\n",
       "    .dataframe tbody tr th {\n",
       "        vertical-align: top;\n",
       "    }\n",
       "\n",
       "    .dataframe thead th {\n",
       "        text-align: right;\n",
       "    }\n",
       "</style>\n",
       "<table border=\"1\" class=\"dataframe\">\n",
       "  <thead>\n",
       "    <tr style=\"text-align: right;\">\n",
       "      <th></th>\n",
       "      <th>sample_name</th>\n",
       "    </tr>\n",
       "  </thead>\n",
       "  <tbody>\n",
       "    <tr>\n",
       "      <th>0</th>\n",
       "      <td>BT41_T</td>\n",
       "    </tr>\n",
       "    <tr>\n",
       "      <th>1</th>\n",
       "      <td>BT48_T</td>\n",
       "    </tr>\n",
       "    <tr>\n",
       "      <th>2</th>\n",
       "      <td>BT50_T</td>\n",
       "    </tr>\n",
       "    <tr>\n",
       "      <th>3</th>\n",
       "      <td>BT53_T</td>\n",
       "    </tr>\n",
       "    <tr>\n",
       "      <th>4</th>\n",
       "      <td>BT67_T</td>\n",
       "    </tr>\n",
       "    <tr>\n",
       "      <th>...</th>\n",
       "      <td>...</td>\n",
       "    </tr>\n",
       "    <tr>\n",
       "      <th>203</th>\n",
       "      <td>HF11_NL</td>\n",
       "    </tr>\n",
       "    <tr>\n",
       "      <th>204</th>\n",
       "      <td>HF5205_NL</td>\n",
       "    </tr>\n",
       "    <tr>\n",
       "      <th>205</th>\n",
       "      <td>HF6562_NL</td>\n",
       "    </tr>\n",
       "    <tr>\n",
       "      <th>206</th>\n",
       "      <td>HF7450_NL</td>\n",
       "    </tr>\n",
       "    <tr>\n",
       "      <th>207</th>\n",
       "      <td>G938_NT</td>\n",
       "    </tr>\n",
       "  </tbody>\n",
       "</table>\n",
       "<p>208 rows × 1 columns</p>\n",
       "</div>"
      ],
      "text/plain": [
       "    sample_name\n",
       "0        BT41_T\n",
       "1        BT48_T\n",
       "2        BT50_T\n",
       "3        BT53_T\n",
       "4        BT67_T\n",
       "..          ...\n",
       "203     HF11_NL\n",
       "204   HF5205_NL\n",
       "205   HF6562_NL\n",
       "206   HF7450_NL\n",
       "207     G938_NT\n",
       "\n",
       "[208 rows x 1 columns]"
      ]
     },
     "execution_count": 24,
     "metadata": {},
     "output_type": "execute_result"
    }
   ],
   "source": [
    "meta_df = expression_matrix.iloc[1].dropna().to_frame()\n",
    "meta_df.columns = ['sample_name']\n",
    "meta_df.reset_index(drop=True, inplace=True)\n",
    "meta_df"
   ]
  },
  {
   "cell_type": "code",
   "execution_count": null,
   "id": "8389d201",
   "metadata": {},
   "outputs": [
    {
     "name": "stdout",
     "output_type": "stream",
     "text": [
      "    sample_name               disease\n",
      "0        BT41_T             adult_gbm\n",
      "1        BT48_T             adult_gbm\n",
      "2        BT50_T             adult_gbm\n",
      "3        BT53_T             adult_gbm\n",
      "4        BT67_T             adult_gbm\n",
      "..          ...                   ...\n",
      "203     HF11_NL      culture_controls\n",
      "204   HF5205_NL      culture_controls\n",
      "205   HF6562_NL      culture_controls\n",
      "206   HF7450_NL      culture_controls\n",
      "207     G938_NT  matched_outer_cortex\n",
      "\n",
      "[208 rows x 2 columns]\n",
      "disease\n",
      "adult_gbm                  157\n",
      "pediatric_pf_ependymoma     22\n",
      "pediatric_gbm                8\n",
      "pediatric_st_ependymoma      8\n",
      "culture_controls             6\n",
      "adult_lgg                    2\n",
      "adult_controls               2\n",
      "pediatric_controls           2\n",
      "matched_outer_cortex         1\n",
      "Name: count, dtype: int64\n"
     ]
    }
   ],
   "source": [
    "# Assign samples to disease categories\n",
    "meta_df['disease'] = None\n",
    "\n",
    "def set_disease(meta_df, start_sample, end_sample, disease_label):\n",
    "    start_idx = meta_df[meta_df['sample_name'] == start_sample].index[0]\n",
    "    end_idx = meta_df[meta_df['sample_name'] == end_sample].index[0]\n",
    "    meta_df.loc[start_idx:end_idx, 'disease'] = disease_label\n",
    "\n",
    "# Example usage:\n",
    "set_disease(meta_df, 'BT41_T', 'G958_L', 'adult_gbm')\n",
    "set_disease(meta_df, 'G607_T', 'G607_L', 'adult_lgg')\n",
    "set_disease(meta_df, 'G477_T', 'G938_L', 'pediatric_gbm')\n",
    "set_disease(meta_df, 'PFA1_T', 'PFA14_L_hypoxia', 'pediatric_pf_ependymoma')\n",
    "set_disease(meta_df, 'ST1_T', 'ST5_L_hypoxia', 'pediatric_st_ependymoma')\n",
    "set_disease(meta_df, 'AB1_NT', 'AB2_NT', 'adult_controls')\n",
    "set_disease(meta_df, 'PB1_NT', 'PB2_NT', 'pediatric_controls')\n",
    "set_disease(meta_df, 'HF5_NL', 'HF7450_NL', 'culture_controls')\n",
    "set_disease(meta_df, 'G938_NT', 'G938_NT', 'matched_outer_cortex')\n",
    "\n",
    "print(meta_df)\n",
    "\n",
    "print(meta_df['disease'].value_counts()) # See how many of each type of disease there are, no none values, good!"
   ]
  },
  {
   "cell_type": "code",
   "execution_count": 30,
   "id": "02efbd90",
   "metadata": {},
   "outputs": [
    {
     "name": "stdout",
     "output_type": "stream",
     "text": [
      "    sample_name               disease sample_type\n",
      "0        BT41_T             adult_gbm      tissue\n",
      "1        BT48_T             adult_gbm      tissue\n",
      "2        BT50_T             adult_gbm      tissue\n",
      "3        BT53_T             adult_gbm      tissue\n",
      "4        BT67_T             adult_gbm      tissue\n",
      "..          ...                   ...         ...\n",
      "203     HF11_NL      culture_controls        fNSC\n",
      "204   HF5205_NL      culture_controls        fNSC\n",
      "205   HF6562_NL      culture_controls        fNSC\n",
      "206   HF7450_NL      culture_controls        fNSC\n",
      "207     G938_NT  matched_outer_cortex      tissue\n",
      "\n",
      "[208 rows x 3 columns]\n"
     ]
    }
   ],
   "source": [
    "# Assign samples to disease categories\n",
    "meta_df['sample_type'] = None\n",
    "\n",
    "def set_sample_type(meta_df, start_sample, end_sample, sample_type):\n",
    "    start_idx = meta_df[meta_df['sample_name'] == start_sample].index[0]\n",
    "    end_idx = meta_df[meta_df['sample_name'] == end_sample].index[0]\n",
    "    meta_df.loc[start_idx:end_idx, 'sample_type'] = sample_type\n",
    "\n",
    "# Example usage:\n",
    "set_sample_type(meta_df, 'BT41_T', 'G958_T', 'tissue')\n",
    "set_sample_type(meta_df, 'BT41_L', 'G958_L', 'culture')\n",
    "set_sample_type(meta_df, 'G607_T', 'G607_T', 'tissue')\n",
    "set_sample_type(meta_df, 'G607_L', 'G607_L', 'culture')\n",
    "set_sample_type(meta_df, 'G477_T', 'G938_T', 'tissue')\n",
    "set_sample_type(meta_df, 'G477_L', 'G938_L', 'culture')\n",
    "set_sample_type(meta_df, 'PFA1_T', 'PFA14_T', 'tissue')\n",
    "set_sample_type(meta_df, 'PFA1_L_hypoxia', 'PFA14_L_hypoxia', 'culture')\n",
    "set_sample_type(meta_df, 'ST1_T', 'ST5_T', 'tissue')\n",
    "set_sample_type(meta_df, 'ST1_L_hypoxia', 'ST5_L_hypoxia', 'culture')\n",
    "set_sample_type(meta_df, 'AB1_NT', 'PB2_NT', 'tissue')\n",
    "set_sample_type(meta_df, 'HF5_NL', 'HF7450_NL', 'fNSC')\n",
    "set_sample_type(meta_df, 'G938_NT', 'G938_NT', 'tissue')\n",
    "\n",
    "print(meta_df)\n"
   ]
  },
  {
   "cell_type": "code",
   "execution_count": 31,
   "id": "93b8ab9b",
   "metadata": {},
   "outputs": [],
   "source": [
    "meta_df.to_csv(\"C:/research/GSC_RNAseq_and_metabolomics_analysis/bulk_meta_compiled.csv\", index=False)"
   ]
  }
 ],
 "metadata": {
  "kernelspec": {
   "display_name": "Python 3",
   "language": "python",
   "name": "python3"
  },
  "language_info": {
   "codemirror_mode": {
    "name": "ipython",
    "version": 3
   },
   "file_extension": ".py",
   "mimetype": "text/x-python",
   "name": "python",
   "nbconvert_exporter": "python",
   "pygments_lexer": "ipython3",
   "version": "3.12.4"
  }
 },
 "nbformat": 4,
 "nbformat_minor": 5
}
